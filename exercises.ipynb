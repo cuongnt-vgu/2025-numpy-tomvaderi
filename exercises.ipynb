{
 "cells": [
  {
   "cell_type": "code",
   "execution_count": 24,
   "metadata": {},
   "outputs": [
    {
     "name": "stderr",
     "output_type": "stream",
     "text": [
      "WARNING:root:Ignoring repeated attempt to bind to globals\n"
     ]
    },
    {
     "name": "stdout",
     "output_type": "stream",
     "text": [
      "Setup Complete\n"
     ]
    }
   ],
   "source": [
    "# Importing dependencies\n",
    "\n",
    "from learntools.core import binder\n",
    "import numpy as np\n",
    "\n",
    "binder.bind(globals())\n",
    "\n",
    "from learntools_ex import *\n",
    "\n",
    "print(\"Setup Complete\")"
   ]
  },
  {
   "cell_type": "markdown",
   "metadata": {},
   "source": [
    "## **Questions**"
   ]
  },
  {
   "cell_type": "markdown",
   "metadata": {},
   "source": [
    "### **IMPORTANT**: You **don't** have to delete any `q{n}.check()` or `q{n}.hint()` or `q{n}_sol = question_{n}()`. Please make sure that the function name and function signature match the question and the example given. Additionally, all functions should be runnable or your solution will not be evaluated."
   ]
  },
  {
   "cell_type": "markdown",
   "metadata": {},
   "source": [
    "## **Q1:** Create a one-dimensional NumPy array of the numbers from 5 to 905, counting by 10?"
   ]
  },
  {
   "cell_type": "code",
   "execution_count": 4,
   "metadata": {},
   "outputs": [
    {
     "data": {
      "application/javascript": "parent.postMessage({\"jupyterEvent\": \"custom.exercise_interaction\", \"data\": {\"outcomeType\": 1, \"valueTowardsCompletion\": 0.05, \"interactionType\": 1, \"questionType\": 1, \"questionId\": \"1_Exercise1\", \"failureMessage\": \"\", \"exceptionClass\": \"\", \"trace\": \"\"}}, \"*\")",
      "text/plain": [
       "<IPython.core.display.Javascript object>"
      ]
     },
     "metadata": {},
     "output_type": "display_data"
    },
    {
     "data": {
      "text/markdown": [
       "<span style=\"color:#33cc33\">Correct</span>"
      ],
      "text/plain": [
       "Correct"
      ]
     },
     "metadata": {},
     "output_type": "display_data"
    }
   ],
   "source": [
    "def question_1():\n",
    "    arr = np.arange(5,905,10)\n",
    "    return arr\n",
    "\n",
    "\n",
    "q1_sol = question_1()\n",
    "q1.check()"
   ]
  },
  {
   "cell_type": "markdown",
   "metadata": {},
   "source": [
    "## **Q2**: Create the same NumPy array using a Python range and a list? (Hint: create a list)"
   ]
  },
  {
   "cell_type": "code",
   "execution_count": 10,
   "metadata": {},
   "outputs": [
    {
     "data": {
      "application/javascript": "parent.postMessage({\"jupyterEvent\": \"custom.exercise_interaction\", \"data\": {\"outcomeType\": 1, \"valueTowardsCompletion\": 0.05, \"interactionType\": 1, \"questionType\": 1, \"questionId\": \"2_Exercise2\", \"failureMessage\": \"\", \"exceptionClass\": \"\", \"trace\": \"\"}}, \"*\")",
      "text/plain": [
       "<IPython.core.display.Javascript object>"
      ]
     },
     "metadata": {},
     "output_type": "display_data"
    },
    {
     "data": {
      "text/markdown": [
       "<span style=\"color:#33cc33\">Correct</span>"
      ],
      "text/plain": [
       "Correct"
      ]
     },
     "metadata": {},
     "output_type": "display_data"
    }
   ],
   "source": [
    "def question_2():\n",
    "    arr = np.array(list(range(5,905,10)))\n",
    "    return arr\n",
    "\n",
    "q2_sol = question_2()\n",
    "q2.check()"
   ]
  },
  {
   "cell_type": "markdown",
   "metadata": {},
   "source": [
    "## **Q3**: How might you create a NumPy array of the capital letters, A-Z? (Hint: Ever heard of string.ascii_uppercase?)"
   ]
  },
  {
   "cell_type": "code",
   "execution_count": 13,
   "metadata": {},
   "outputs": [
    {
     "data": {
      "application/javascript": "parent.postMessage({\"jupyterEvent\": \"custom.exercise_interaction\", \"data\": {\"outcomeType\": 1, \"valueTowardsCompletion\": 0.05, \"interactionType\": 1, \"questionType\": 1, \"questionId\": \"3_Exercise3\", \"failureMessage\": \"\", \"exceptionClass\": \"\", \"trace\": \"\"}}, \"*\")",
      "text/plain": [
       "<IPython.core.display.Javascript object>"
      ]
     },
     "metadata": {},
     "output_type": "display_data"
    },
    {
     "data": {
      "text/markdown": [
       "<span style=\"color:#33cc33\">Correct</span>"
      ],
      "text/plain": [
       "Correct"
      ]
     },
     "metadata": {},
     "output_type": "display_data"
    }
   ],
   "source": [
    "import string\n",
    "def question_3():\n",
    "    arr = np.array(list(string.ascii_uppercase))\n",
    "    return arr\n",
    "\n",
    "q3_sol = question_3()\n",
    "q3.check()"
   ]
  },
  {
   "cell_type": "markdown",
   "metadata": {},
   "source": [
    "## **Q4**: Create a ten-element NumPy array object of all zeros and a six-element NumPy array object of all ones."
   ]
  },
  {
   "cell_type": "code",
   "execution_count": 14,
   "metadata": {},
   "outputs": [
    {
     "data": {
      "application/javascript": "parent.postMessage({\"jupyterEvent\": \"custom.exercise_interaction\", \"data\": {\"outcomeType\": 1, \"valueTowardsCompletion\": 0.05, \"interactionType\": 1, \"questionType\": 1, \"questionId\": \"4_Exercise4\", \"failureMessage\": \"\", \"exceptionClass\": \"\", \"trace\": \"\"}}, \"*\")",
      "text/plain": [
       "<IPython.core.display.Javascript object>"
      ]
     },
     "metadata": {},
     "output_type": "display_data"
    },
    {
     "data": {
      "text/markdown": [
       "<span style=\"color:#33cc33\">Correct</span>"
      ],
      "text/plain": [
       "Correct"
      ]
     },
     "metadata": {},
     "output_type": "display_data"
    }
   ],
   "source": [
    "def question_4() -> tuple:\n",
    "    arr1 = np.zeros(10)\n",
    "    arr2 = np.ones(6)\n",
    "    return (arr1,arr2)\n",
    "q4_sol_1, q4_sol_2 = question_4()\n",
    "q4.check()"
   ]
  },
  {
   "cell_type": "markdown",
   "metadata": {},
   "source": [
    "## **Q5**: Given an 2-D array, print the third column."
   ]
  },
  {
   "cell_type": "code",
   "execution_count": 18,
   "metadata": {},
   "outputs": [
    {
     "data": {
      "application/javascript": "parent.postMessage({\"jupyterEvent\": \"custom.exercise_interaction\", \"data\": {\"outcomeType\": 1, \"valueTowardsCompletion\": 0.05, \"interactionType\": 1, \"questionType\": 1, \"questionId\": \"5_Exercise5\", \"failureMessage\": \"\", \"exceptionClass\": \"\", \"trace\": \"\"}}, \"*\")",
      "text/plain": [
       "<IPython.core.display.Javascript object>"
      ]
     },
     "metadata": {},
     "output_type": "display_data"
    },
    {
     "data": {
      "text/markdown": [
       "<span style=\"color:#33cc33\">Correct</span>"
      ],
      "text/plain": [
       "Correct"
      ]
     },
     "metadata": {},
     "output_type": "display_data"
    }
   ],
   "source": [
    "input = np.array([[11, 22, 33], [44, 55, 66], [77, 88, 99]])\n",
    "\n",
    "\n",
    "def question_5(input):\n",
    "    return input[:,2]\n",
    "\n",
    "\n",
    "q5_sol = question_5(input)\n",
    "q5.check()"
   ]
  },
  {
   "cell_type": "markdown",
   "metadata": {},
   "source": [
    "## **Q6**: Create an array of the shape (3, 4), filled with 64-bit integer zeros."
   ]
  },
  {
   "cell_type": "code",
   "execution_count": 21,
   "metadata": {},
   "outputs": [
    {
     "data": {
      "application/javascript": "parent.postMessage({\"jupyterEvent\": \"custom.exercise_interaction\", \"data\": {\"outcomeType\": 1, \"valueTowardsCompletion\": 0.05, \"interactionType\": 1, \"questionType\": 1, \"questionId\": \"6_Exercise6\", \"failureMessage\": \"\", \"exceptionClass\": \"\", \"trace\": \"\"}}, \"*\")",
      "text/plain": [
       "<IPython.core.display.Javascript object>"
      ]
     },
     "metadata": {},
     "output_type": "display_data"
    },
    {
     "data": {
      "text/markdown": [
       "<span style=\"color:#33cc33\">Correct</span>"
      ],
      "text/plain": [
       "Correct"
      ]
     },
     "metadata": {},
     "output_type": "display_data"
    }
   ],
   "source": [
    "def question_6():\n",
    "    arr = np.zeros((3,4))\n",
    "    return arr\n",
    "\n",
    "\n",
    "q6_sol = question_6()\n",
    "q6.check()"
   ]
  },
  {
   "cell_type": "markdown",
   "metadata": {},
   "source": [
    "## **Q7**: Split an array into 3 equal-sized sub-arrays."
   ]
  },
  {
   "cell_type": "code",
   "execution_count": 23,
   "metadata": {},
   "outputs": [
    {
     "data": {
      "application/javascript": "parent.postMessage({\"jupyterEvent\": \"custom.exercise_interaction\", \"data\": {\"interactionType\": 2, \"questionType\": 1, \"questionId\": \"7_Exercise7\", \"valueTowardsCompletion\": 0.0, \"failureMessage\": \"\", \"exceptionClass\": \"\", \"trace\": \"\", \"outcomeType\": 4}}, \"*\")",
      "text/plain": [
       "<IPython.core.display.Javascript object>"
      ]
     },
     "metadata": {},
     "output_type": "display_data"
    },
    {
     "data": {
      "text/markdown": [
       "<span style=\"color:#3366cc\">Hint:</span> Reshape the array and use np.split() to divide it into three parts."
      ],
      "text/plain": [
       "Hint: Reshape the array and use np.split() to divide it into three parts."
      ]
     },
     "metadata": {},
     "output_type": "display_data"
    }
   ],
   "source": [
    "q7.hint()"
   ]
  },
  {
   "cell_type": "code",
   "execution_count": 25,
   "metadata": {},
   "outputs": [
    {
     "data": {
      "application/javascript": "parent.postMessage({\"jupyterEvent\": \"custom.exercise_interaction\", \"data\": {\"outcomeType\": 1, \"valueTowardsCompletion\": 0.05, \"interactionType\": 1, \"questionType\": 1, \"questionId\": \"7_Exercise7\", \"failureMessage\": \"\", \"exceptionClass\": \"\", \"trace\": \"\"}}, \"*\")",
      "text/plain": [
       "<IPython.core.display.Javascript object>"
      ]
     },
     "metadata": {},
     "output_type": "display_data"
    },
    {
     "data": {
      "text/markdown": [
       "<span style=\"color:#33cc33\">Correct</span>"
      ],
      "text/plain": [
       "Correct"
      ]
     },
     "metadata": {},
     "output_type": "display_data"
    }
   ],
   "source": [
    "input = np.arange(7, 34, 1).reshape(9, 3)\n",
    "\n",
    "\n",
    "\n",
    "def question_7(input):\n",
    "    arr1, arr2, arr3 = np.split(input, 3)\n",
    "    return arr1,arr2,arr3\n",
    "\n",
    "q7_sol_1, q7_sol_2, q7_sol_3 = question_7(input)\n",
    "q7.check()"
   ]
  },
  {
   "cell_type": "markdown",
   "metadata": {},
   "source": [
    "## **Q8**: Return the last 2 elements by each of the first rows of the (3,4) array. "
   ]
  },
  {
   "cell_type": "code",
   "execution_count": 29,
   "metadata": {},
   "outputs": [
    {
     "ename": "NameError",
     "evalue": "name 'q8_sol' is not defined",
     "output_type": "error",
     "traceback": [
      "\u001b[31m---------------------------------------------------------------------------\u001b[39m",
      "\u001b[31mNameError\u001b[39m                                 Traceback (most recent call last)",
      "\u001b[36mCell\u001b[39m\u001b[36m \u001b[39m\u001b[32mIn[29]\u001b[39m\u001b[32m, line 1\u001b[39m\n\u001b[32m----> \u001b[39m\u001b[32m1\u001b[39m \u001b[43mq8_sol\u001b[49m\n",
      "\u001b[31mNameError\u001b[39m: name 'q8_sol' is not defined"
     ]
    }
   ],
   "source": [
    "q8_sol"
   ]
  },
  {
   "cell_type": "code",
   "execution_count": 61,
   "metadata": {},
   "outputs": [
    {
     "data": {
      "application/javascript": "parent.postMessage({\"jupyterEvent\": \"custom.exercise_interaction\", \"data\": {\"outcomeType\": 2, \"failureMessage\": \"Incorrect value for `q8_sol`: `array([3, 4])`\", \"interactionType\": 1, \"questionType\": 1, \"questionId\": \"8_Exercise8\", \"valueTowardsCompletion\": 0.0, \"exceptionClass\": \"\", \"trace\": \"\"}}, \"*\")",
      "text/plain": [
       "<IPython.core.display.Javascript object>"
      ]
     },
     "metadata": {},
     "output_type": "display_data"
    },
    {
     "data": {
      "text/markdown": [
       "<span style=\"color:#cc3333\">Incorrect:</span> Incorrect value for `q8_sol`: `array([3, 4])`"
      ],
      "text/plain": [
       "Incorrect: Incorrect value for `q8_sol`: `array([3, 4])`"
      ]
     },
     "metadata": {},
     "output_type": "display_data"
    }
   ],
   "source": [
    "input = np.arange(1, 13, 1).reshape(3, 4)\n",
    "\n",
    "\n",
    "def question_8(input):\n",
    "    return input[0,-2:]\n",
    "\n",
    "\n",
    "q8_sol = question_8(input)\n",
    "q8.check()"
   ]
  },
  {
   "cell_type": "markdown",
   "metadata": {},
   "source": [
    "## **Q9**: Return how many elements are greater than 5 in an array."
   ]
  },
  {
   "cell_type": "code",
   "execution_count": 65,
   "metadata": {},
   "outputs": [
    {
     "data": {
      "application/javascript": "parent.postMessage({\"jupyterEvent\": \"custom.exercise_interaction\", \"data\": {\"interactionType\": 2, \"questionType\": 1, \"questionId\": \"9_Exercise9\", \"valueTowardsCompletion\": 0.0, \"failureMessage\": \"\", \"exceptionClass\": \"\", \"trace\": \"\", \"outcomeType\": 4}}, \"*\")",
      "text/plain": [
       "<IPython.core.display.Javascript object>"
      ]
     },
     "metadata": {},
     "output_type": "display_data"
    },
    {
     "data": {
      "text/markdown": [
       "<span style=\"color:#3366cc\">Hint:</span> Apply a boolean mask to count elements greater than 5."
      ],
      "text/plain": [
       "Hint: Apply a boolean mask to count elements greater than 5."
      ]
     },
     "metadata": {},
     "output_type": "display_data"
    }
   ],
   "source": [
    "q9.hint()"
   ]
  },
  {
   "cell_type": "code",
   "execution_count": 66,
   "metadata": {},
   "outputs": [
    {
     "data": {
      "application/javascript": "parent.postMessage({\"jupyterEvent\": \"custom.exercise_interaction\", \"data\": {\"outcomeType\": 1, \"valueTowardsCompletion\": 0.05, \"interactionType\": 1, \"questionType\": 1, \"questionId\": \"9_Exercise9\", \"failureMessage\": \"\", \"exceptionClass\": \"\", \"trace\": \"\"}}, \"*\")",
      "text/plain": [
       "<IPython.core.display.Javascript object>"
      ]
     },
     "metadata": {},
     "output_type": "display_data"
    },
    {
     "data": {
      "text/markdown": [
       "<span style=\"color:#33cc33\">Correct</span>"
      ],
      "text/plain": [
       "Correct"
      ]
     },
     "metadata": {},
     "output_type": "display_data"
    }
   ],
   "source": [
    "input = np.arange(1, 13, 1).reshape(3, 4)\n",
    "\n",
    "\n",
    "def question_9(input):\n",
    "    count = np.count_nonzero(input>5)\n",
    "    return count\n",
    "\n",
    "\n",
    "q9_sol = question_9(input)\n",
    "q9.check()"
   ]
  },
  {
   "cell_type": "markdown",
   "metadata": {},
   "source": [
    "## **Q10**: Delete the second column from an array and insert the following new column in the same place."
   ]
  },
  {
   "cell_type": "code",
   "execution_count": 68,
   "metadata": {},
   "outputs": [
    {
     "data": {
      "application/javascript": "parent.postMessage({\"jupyterEvent\": \"custom.exercise_interaction\", \"data\": {\"outcomeType\": 1, \"valueTowardsCompletion\": 0.05, \"interactionType\": 1, \"questionType\": 1, \"questionId\": \"10_Exercise10\", \"failureMessage\": \"\", \"exceptionClass\": \"\", \"trace\": \"\"}}, \"*\")",
      "text/plain": [
       "<IPython.core.display.Javascript object>"
      ]
     },
     "metadata": {},
     "output_type": "display_data"
    },
    {
     "data": {
      "text/markdown": [
       "<span style=\"color:#33cc33\">Correct</span>"
      ],
      "text/plain": [
       "Correct"
      ]
     },
     "metadata": {},
     "output_type": "display_data"
    }
   ],
   "source": [
    "input = np.array([[34, 72, 33], [82, 22, 32], [59, 84, 10]])\n",
    "insert_data = np.array([[37, 37, 37]])\n",
    "\n",
    "\n",
    "def question_10(input, insert_data):\n",
    "    arr = np.delete(input, 1, axis = 1)\n",
    "    arr = np.insert(arr, 1, insert_data, axis = 1)\n",
    "    return arr\n",
    "\n",
    "\n",
    "q10_sol = question_10(input, insert_data)\n",
    "q10.check()"
   ]
  },
  {
   "cell_type": "markdown",
   "metadata": {},
   "source": [
    "## **Q11**: Compute the Euclidean distance between each pair of consecutive points in a given 2D NumPy array and append the result as a new column.\n",
    "\n",
    "Euclidian distance between two points $(x_1, y_1)$ and $(x_2, y_2)$ is $\\sqrt{(x_2 - x_1)^2 + (y_2 - y_1)^2}$.  "
   ]
  },
  {
   "cell_type": "code",
   "execution_count": 27,
   "metadata": {},
   "outputs": [
    {
     "ename": "NameError",
     "evalue": "name 'q11_sol' is not defined",
     "output_type": "error",
     "traceback": [
      "\u001b[31m---------------------------------------------------------------------------\u001b[39m",
      "\u001b[31mNameError\u001b[39m                                 Traceback (most recent call last)",
      "\u001b[36mCell\u001b[39m\u001b[36m \u001b[39m\u001b[32mIn[27]\u001b[39m\u001b[32m, line 1\u001b[39m\n\u001b[32m----> \u001b[39m\u001b[32m1\u001b[39m \u001b[43mq11_sol\u001b[49m\n",
      "\u001b[31mNameError\u001b[39m: name 'q11_sol' is not defined"
     ]
    }
   ],
   "source": [
    "q11_sol"
   ]
  },
  {
   "cell_type": "code",
   "execution_count": 6,
   "metadata": {},
   "outputs": [
    {
     "data": {
      "application/javascript": "parent.postMessage({\"jupyterEvent\": \"custom.exercise_interaction\", \"data\": {\"outcomeType\": 2, \"failureMessage\": \"Incorrect value for `q11_sol`: `array([[ 1.        ,  2.        ,  5.        ],\\n       [ 4.        ,  6.        ,  3.60555128],\\n       [ 7.        ,  8.        ,  3.60555128],\\n       [10.        , 10.        , 12.04159458]])`\", \"interactionType\": 1, \"questionType\": 1, \"questionId\": \"11_Exercise11\", \"valueTowardsCompletion\": 0.0, \"exceptionClass\": \"\", \"trace\": \"\"}}, \"*\")",
      "text/plain": [
       "<IPython.core.display.Javascript object>"
      ]
     },
     "metadata": {},
     "output_type": "display_data"
    },
    {
     "data": {
      "text/markdown": [
       "<span style=\"color:#cc3333\">Incorrect:</span> Incorrect value for `q11_sol`: `array([[ 1.        ,  2.        ,  5.        ],\n",
       "       [ 4.        ,  6.        ,  3.60555128],\n",
       "       [ 7.        ,  8.        ,  3.60555128],\n",
       "       [10.        , 10.        , 12.04159458]])`"
      ],
      "text/plain": [
       "Incorrect: Incorrect value for `q11_sol`: `array([[ 1.        ,  2.        ,  5.        ],\n",
       "       [ 4.        ,  6.        ,  3.60555128],\n",
       "       [ 7.        ,  8.        ,  3.60555128],\n",
       "       [10.        , 10.        , 12.04159458]])`"
      ]
     },
     "metadata": {},
     "output_type": "display_data"
    }
   ],
   "source": [
    "input = np.array([[1, 2], [4, 6], [7, 8], [10, 10]])\n",
    "import math\n",
    "\n",
    "def question_11(input):\n",
    "    d1 = math.sqrt((input[1,0]-input[0,0])**2 + (input[1,1]-input[0,1])**2)\n",
    "    d2 = math.sqrt((input[2,0]-input[1,0])**2 + (input[2,1]-input[1,1])**2)\n",
    "    d3 = math.sqrt((input[3,0]-input[2,0])**2 + (input[3,1]-input[2,1])**2)\n",
    "    d4 = math.sqrt((input[3,0]-input[0,0])**2 + (input[3,1]-input[0,1])**2)\n",
    "    dis = np.array([[d1,d2,d3,d4]])\n",
    "    dis = dis.reshape(-1,1)\n",
    "    input = np.hstack((input,dis))\n",
    "    return input\n",
    "q11_sol = question_11(input)\n",
    "q11.check()"
   ]
  },
  {
   "cell_type": "markdown",
   "metadata": {},
   "source": [
    "## **Q12**: Remove consecutive duplicates from a NumPy array."
   ]
  },
  {
   "cell_type": "code",
   "execution_count": 19,
   "metadata": {},
   "outputs": [
    {
     "data": {
      "text/plain": [
       "array([[1, 1],\n",
       "       [2, 1],\n",
       "       [3, 3]])"
      ]
     },
     "execution_count": 19,
     "metadata": {},
     "output_type": "execute_result"
    }
   ],
   "source": [
    "q12_sol"
   ]
  },
  {
   "cell_type": "code",
   "execution_count": 5,
   "metadata": {},
   "outputs": [
    {
     "data": {
      "application/javascript": "parent.postMessage({\"jupyterEvent\": \"custom.exercise_interaction\", \"data\": {\"outcomeType\": 2, \"failureMessage\": \"Incorrect value for `q12_sol`: `array([[1, 1],\\n       [2, 1],\\n       [3, 3]])`\", \"interactionType\": 1, \"questionType\": 1, \"questionId\": \"12_Exercise12\", \"valueTowardsCompletion\": 0.0, \"exceptionClass\": \"\", \"trace\": \"\"}}, \"*\")",
      "text/plain": [
       "<IPython.core.display.Javascript object>"
      ]
     },
     "metadata": {},
     "output_type": "display_data"
    },
    {
     "data": {
      "text/markdown": [
       "<span style=\"color:#cc3333\">Incorrect:</span> Incorrect value for `q12_sol`: `array([[1, 1],\n",
       "       [2, 1],\n",
       "       [3, 3]])`"
      ],
      "text/plain": [
       "Incorrect: Incorrect value for `q12_sol`: `array([[1, 1],\n",
       "       [2, 1],\n",
       "       [3, 3]])`"
      ]
     },
     "metadata": {},
     "output_type": "display_data"
    }
   ],
   "source": [
    "input = np.array([[1, 1], [2, 1], [3, 3], [3, 3], [2, 1], [1, 1]])\n",
    "\n",
    "\n",
    "def question_12(input):\n",
    "    unik = np.unique(input, axis=0)\n",
    "    return unik\n",
    "\n",
    "q12_sol = question_12(input)\n",
    "q12.check()"
   ]
  },
  {
   "cell_type": "markdown",
   "metadata": {},
   "source": [
    "## **Q13**: Given a 2D NumPy array representing strokes, normalize all rows by subtracting the mean of each column and dividing by the standard deviation, but avoid division by zero.\n",
    "$X_{\\text{normalized}} = \\frac{X - \\mu}{\\sigma}$"
   ]
  },
  {
   "cell_type": "code",
   "execution_count": 30,
   "metadata": {},
   "outputs": [
    {
     "ename": "NameError",
     "evalue": "name 'q13_sol' is not defined",
     "output_type": "error",
     "traceback": [
      "\u001b[31m---------------------------------------------------------------------------\u001b[39m",
      "\u001b[31mNameError\u001b[39m                                 Traceback (most recent call last)",
      "\u001b[36mCell\u001b[39m\u001b[36m \u001b[39m\u001b[32mIn[30]\u001b[39m\u001b[32m, line 1\u001b[39m\n\u001b[32m----> \u001b[39m\u001b[32m1\u001b[39m \u001b[43mq13_sol\u001b[49m\n",
      "\u001b[31mNameError\u001b[39m: name 'q13_sol' is not defined"
     ]
    }
   ],
   "source": [
    "q13_sol"
   ]
  },
  {
   "cell_type": "code",
   "execution_count": 31,
   "metadata": {},
   "outputs": [
    {
     "data": {
      "application/javascript": "parent.postMessage({\"jupyterEvent\": \"custom.exercise_interaction\", \"data\": {\"outcomeType\": 1, \"valueTowardsCompletion\": 0.05, \"interactionType\": 1, \"questionType\": 1, \"questionId\": \"13_Exercise13\", \"failureMessage\": \"\", \"exceptionClass\": \"\", \"trace\": \"\"}}, \"*\")",
      "text/plain": [
       "<IPython.core.display.Javascript object>"
      ]
     },
     "metadata": {},
     "output_type": "display_data"
    },
    {
     "data": {
      "text/markdown": [
       "<span style=\"color:#33cc33\">Correct</span>"
      ],
      "text/plain": [
       "Correct"
      ]
     },
     "metadata": {},
     "output_type": "display_data"
    }
   ],
   "source": [
    "input = np.array([[10, 20, 30], [15, 24, 33], [8, 18, 29], [14, 22, 32]])\n",
    "\n",
    "\n",
    "def question_13(input):\n",
    "    mean = np.mean(input, axis = 0)\n",
    "    StandardDev = np.std(input, axis = 0)\n",
    "    normalize = (input-mean)/StandardDev\n",
    "    return normalize\n",
    "\n",
    "q13_sol = question_13(input)\n",
    "q13.check()"
   ]
  },
  {
   "cell_type": "markdown",
   "metadata": {},
   "source": [
    "## **Q14**: Delete the second column from an array and insert a new column at the same position where each value is the sum of its corresponding row."
   ]
  },
  {
   "cell_type": "code",
   "execution_count": null,
   "metadata": {},
   "outputs": [],
   "source": [
    "input = np.array([[1, 2, 3], [4, 5, 6], [7, 8, 9]])\n",
    "\n",
    "\n",
    "def question_14(input):\n",
    "    raise NotImplementedError\n",
    "\n",
    "\n",
    "q14_sol = question_14(input)\n",
    "q14.check()"
   ]
  },
  {
   "cell_type": "markdown",
   "metadata": {},
   "source": [
    "## **Q15**: Extract Unique Characters from a NumPy Array of Strings\n",
    "Given a 1D NumPy array of strings, extract all unique characters present in the array and sort by their ASCII values."
   ]
  },
  {
   "cell_type": "code",
   "execution_count": null,
   "metadata": {},
   "outputs": [],
   "source": [
    "input = np.array([\"hello\", \"world\", \"numpy\", \"rocks\"])\n",
    "\n",
    "\n",
    "def question_15(input):\n",
    "    raise NotImplementedError\n",
    "\n",
    "\n",
    "q15_sol = question_15(input)\n",
    "q15.check()"
   ]
  },
  {
   "cell_type": "markdown",
   "metadata": {},
   "source": [
    "## **Q16**: Generate a dictionary that maps each unique character to a unique index starting with 0, sorted by ascending ASCII value."
   ]
  },
  {
   "cell_type": "code",
   "execution_count": null,
   "metadata": {},
   "outputs": [],
   "source": [
    "input = np.array([\"a\", \"b\", \"c\", \"d\", \"a\", \"c\", \"e\"])\n",
    "\n",
    "\n",
    "def question_16(input):\n",
    "    raise NotImplementedError\n",
    "\n",
    "\n",
    "q16_sol = question_16(input)\n",
    "q16.check()"
   ]
  },
  {
   "cell_type": "markdown",
   "metadata": {},
   "source": [
    "## **Q17**: Convert a List of 2D traces into a Single NumPy Array\n",
    "Given a list of 2D traces (each being a NumPy array of shape `(N, 2)`), stack them into a single NumPy array."
   ]
  },
  {
   "cell_type": "code",
   "execution_count": null,
   "metadata": {},
   "outputs": [],
   "source": [
    "input = [np.array([[1, 2], [3, 4]]), np.array([[5, 6], [7, 8], [9, 10]])]\n",
    "\n",
    "\n",
    "def question_17(input):\n",
    "    raise NotImplementedError\n",
    "\n",
    "\n",
    "q17_sol = question_17(input)\n",
    "q17.check()"
   ]
  },
  {
   "cell_type": "markdown",
   "metadata": {},
   "source": [
    "## **Q18**: Convert a List of Text Labels into a NumPy Array of Integer Encodings\n",
    "Given a vocabulary dictionary and a string of space-separated labels, convert the text into a NumPy array of indices."
   ]
  },
  {
   "cell_type": "code",
   "execution_count": null,
   "metadata": {},
   "outputs": [],
   "source": [
    "input = {\n",
    "    \"hello\": 0,\n",
    "    \"numpy\": 1,\n",
    "    \"rocks\": 2,\n",
    "    \"world\": 3,\n",
    "    \"python\": 4,\n",
    "    \"data\": 5,\n",
    "    \"science\": 6,\n",
    "}\n",
    "\n",
    "labels = \"hello rocks\"\n",
    "\n",
    "\n",
    "\n",
    "def question_18(input, labels):\n",
    "    raise NotImplementedError\n",
    "\n",
    "\n",
    "q18_sol = question_18(input, labels)\n",
    "q18.check()"
   ]
  },
  {
   "cell_type": "markdown",
   "metadata": {},
   "source": [
    "## **Q19**: Extract Non-Zero Differences from an Array\n",
    "Given a NumPy array of first-order differences, extract only non-zero differences using masking."
   ]
  },
  {
   "cell_type": "code",
   "execution_count": null,
   "metadata": {},
   "outputs": [],
   "source": [
    "input = np.array([[3, 4], [0, 0], [-2, 1]])\n",
    "\n",
    "\n",
    "def question_19(input):\n",
    "    raise NotImplementedError\n",
    "\n",
    "\n",
    "q19_sol = question_19(input)\n",
    "q19.check()"
   ]
  },
  {
   "cell_type": "markdown",
   "metadata": {},
   "source": [
    "## **Q20**: Time Series Data Transformation and Feature Engineering\n",
    "\n",
    "### *Problem Statement:*  \n",
    "You are given a time series dataset representing sensor readings from multiple devices. Each row consists of sensor values at a specific timestamp. Your task is to preprocess and extract meaningful features from the dataset by performing the following transformations:\n",
    "\n",
    "### *Steps to Follow:*\n",
    "1. Normalize Each Sensor Reading  \n",
    "- Subtract the mean and divide by the standard deviation for each column.  \n",
    "- Avoid division by zero by replacing std=0 with 1.  \n",
    "2. Detect and Mask Anomalous Values\n",
    "- If a sensor reading is more than 2.5 standard deviations away from the mean, replace it with NaN.\n",
    "3. Interpolate Missing Values (NaN Handling)\n",
    "- Fill NaN values with the average of the nearest non-NaN neighbors.\n",
    "4. Extract First-Order Differences\n",
    "- Compute the difference between consecutive time steps for each sensor.\n",
    "5. Add a Binary Column for Missing Data\n",
    "- Stack All Features into a Final Matrix\n",
    "Create a new column `missing_flag` that is `1` where original data was `NaN`, otherwise `0`.\n",
    "6. Stack All Features into a Final Matrix\n",
    "- The final dataset should have normalized values, moving averages, first-order differences, and the missing flag."
   ]
  },
  {
   "cell_type": "code",
   "execution_count": null,
   "metadata": {},
   "outputs": [],
   "source": [
    "input = np.array(\n",
    "    [\n",
    "        [1.0, 10.0, 100.0],\n",
    "        [2.0, 20.0, 200.0],\n",
    "        [3.0, 30.0, 10000.0],  # Outlier in third column\n",
    "        [4.0, 40.0, 400.0],\n",
    "        [5.0, 50.0, 500.0],\n",
    "    ]\n",
    ")\n",
    "\n",
    "\n",
    "def question_20(input):\n",
    "    raise NotImplementedError\n",
    "\n",
    "\n",
    "q20_sol = question_20(input)\n",
    "q20.check()"
   ]
  }
 ],
 "metadata": {
  "kernelspec": {
   "display_name": "Python 3",
   "language": "python",
   "name": "python3"
  },
  "language_info": {
   "codemirror_mode": {
    "name": "ipython",
    "version": 3
   },
   "file_extension": ".py",
   "mimetype": "text/x-python",
   "name": "python",
   "nbconvert_exporter": "python",
   "pygments_lexer": "ipython3",
   "version": "3.12.1"
  }
 },
 "nbformat": 4,
 "nbformat_minor": 2
}
